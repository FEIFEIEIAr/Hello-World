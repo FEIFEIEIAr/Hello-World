{
  "nbformat": 4,
  "nbformat_minor": 0,
  "metadata": {
    "colab": {
      "name": "NN-气温预测.ipynb",
      "provenance": [],
      "collapsed_sections": [],
      "toc_visible": true,
      "mount_file_id": "1kjpuKFRmQ3GZuucBWCkUBfuS4sK0s_8t",
      "authorship_tag": "ABX9TyNp6ESuTHZXgy5vA3Mw79nN",
      "include_colab_link": true
    },
    "kernelspec": {
      "name": "python3",
      "display_name": "Python 3"
    },
    "language_info": {
      "name": "python"
    }
  },
  "cells": [
    {
      "cell_type": "markdown",
      "metadata": {
        "id": "view-in-github",
        "colab_type": "text"
      },
      "source": [
        "<a href=\"https://colab.research.google.com/github/FEIFEIEIAr/Hello-World/blob/main/NN_%E6%B0%94%E6%B8%A9%E9%A2%84%E6%B5%8B.ipynb\" target=\"_parent\"><img src=\"https://colab.research.google.com/assets/colab-badge.svg\" alt=\"Open In Colab\"/></a>"
      ]
    },
    {
      "cell_type": "code",
      "metadata": {
        "id": "HlKs3Mcwwqoo"
      },
      "source": [
        "import numpy as np\n",
        "import pandas as pd\n",
        "import matplotlib.pyplot as plt\n",
        "import torch\n",
        "import torch.optim as optim"
      ],
      "execution_count": null,
      "outputs": []
    },
    {
      "cell_type": "code",
      "metadata": {
        "id": "i5bs4j7pxwZe"
      },
      "source": [
        "# 通过python console查看维度\n",
        "features = pd.read_csv('temps.csv')\n",
        "features.head()"
      ],
      "execution_count": null,
      "outputs": []
    },
    {
      "cell_type": "code",
      "metadata": {
        "id": "-HGjBxo6yI4v"
      },
      "source": [
        "print('数据维度：', features.shape)"
      ],
      "execution_count": null,
      "outputs": []
    },
    {
      "cell_type": "code",
      "metadata": {
        "id": "-pjvYV6RyR6J"
      },
      "source": [
        "# 处理时间数据\n",
        "import datetime\n",
        "\n",
        "years = features['year']\n",
        "months = features['month']\n",
        "days = features['day']\n",
        "\n",
        "# datetime格式\n",
        "dates = [str(int(year)) + '-' + str(int(month)) + '-' + str(int(date)) for year,month,date in zip(years,months,days)]\n",
        "dates = [datetime.datetime.strptime(date, '%Y-%m-%d') for date in dates]\n",
        "\n",
        "dates[:5]"
      ],
      "execution_count": null,
      "outputs": []
    },
    {
      "cell_type": "code",
      "metadata": {
        "id": "opLyumVTyi3x"
      },
      "source": [
        "# 画图\n",
        "# 风格\n",
        "plt.style.use('fivethirtyeight')\n",
        "\n",
        "# 设置布局\n",
        "fig, ((ax1, ax2), (ax3,ax4)) = plt.subplots(nrows=2, ncols=2, figsize=(10,10))\n",
        "fig.autofmt_xdate(rotation=45)\n",
        "\n",
        "# 标签值\n",
        "ax1.plot(dates, features[\"actual\"])\n",
        "ax1.set_xlabel('');ax1.set_ylabel(\"Temperature\");ax1.set_title(\"Max Temp\")\n",
        "\n",
        "# 昨天\n",
        "ax2.plot(dates, features[\"temp_1\"])\n",
        "ax2.set_xlabel('');ax1.set_ylabel(\"Temperature\");ax1.set_title(\"Previous Max Temp\")\n",
        "\n",
        "# 前天\n",
        "ax3.plot(dates, features[\"temp_2\"])\n",
        "ax3.set_xlabel('Date');ax1.set_ylabel(\"Temperature\");ax1.set_title(\"Two Days Prior Max Temp\")\n",
        "\n",
        "# 朋友\n",
        "ax4.plot(dates, features[\"friend\"])\n",
        "ax4.set_xlabel('Date');ax1.set_ylabel(\"Temperature\");ax1.set_title(\"Friend's Estimate\")\n",
        "\n",
        "plt.tight_layout(pad=2)"
      ],
      "execution_count": null,
      "outputs": []
    },
    {
      "cell_type": "code",
      "metadata": {
        "id": "m8OTFwnnzhDL"
      },
      "source": [
        "# 独热编码\n",
        "features = pd.get_dummies(features)  # 除掉不是数值的\n",
        "features.head(5)"
      ],
      "execution_count": null,
      "outputs": []
    },
    {
      "cell_type": "code",
      "metadata": {
        "id": "OKi4rkutzhig"
      },
      "source": [
        "# 标签\n",
        "labels = np.array(features['actual'])\n",
        "\n",
        "# 除掉features中的标签\n",
        "features = features.drop('actual', axis = 1)\n",
        "\n",
        "# 名字单独保存一下，以备后患\n",
        "feature_list = list(features.columns)\n",
        "features.head(5)"
      ],
      "execution_count": null,
      "outputs": []
    },
    {
      "cell_type": "code",
      "metadata": {
        "id": "P3bER_AHCbCJ"
      },
      "source": [
        "features = np.array(features)\n",
        "print(features[:2,:])\n",
        "features.shape"
      ],
      "execution_count": null,
      "outputs": []
    },
    {
      "cell_type": "code",
      "metadata": {
        "id": "Howu37pY2VRi"
      },
      "source": [
        "from sklearn import preprocessing\n",
        "# 特征标准化处理\n",
        "input_features = preprocessing.StandardScaler().fit_transform(features)\n",
        "print(input_features[0], type(input_features))"
      ],
      "execution_count": null,
      "outputs": []
    },
    {
      "cell_type": "markdown",
      "metadata": {
        "id": "tcpaQgft_7sz"
      },
      "source": [
        "# 网络"
      ]
    },
    {
      "cell_type": "code",
      "metadata": {
        "id": "r-HkhcF9__mS"
      },
      "source": [
        "# 转为tensor格式\n",
        "x = torch.tensor(input_features, dtype=torch.float)\n",
        "y = torch.tensor(labels, dtype=torch.float)"
      ],
      "execution_count": null,
      "outputs": []
    },
    {
      "cell_type": "code",
      "metadata": {
        "id": "INcyUtn5Cy95"
      },
      "source": [
        "# 权重初始化--标准正态分布\n",
        "weights1 = torch.randn((14, 128), dtype=torch.float, requires_grad=True)  # (14, 128)---14个input，128个units\n",
        "biases1 = torch.randn(128, dtype=torch.float, requires_grad=True)\n",
        "weights2 = torch.randn((128, 1), dtype=torch.float, requires_grad=True)  # 回归任务\n",
        "biases2 = torch.randn(1, dtype=torch.float, requires_grad=True)\n",
        "\n",
        "# 超参初始化\n",
        "learning_rate = 0.001\n",
        "losses = []"
      ],
      "execution_count": null,
      "outputs": []
    },
    {
      "cell_type": "code",
      "metadata": {
        "id": "fpDgH_KID8dX",
        "colab": {
          "base_uri": "https://localhost:8080/"
        },
        "outputId": "2e4590f5-8ccc-4977-8847-0e0dab9fcd27"
      },
      "source": [
        "for i in range(1000):\n",
        "    # 计算隐层\n",
        "    hidden = x.mm(weights1) + biases1  # .mm is matrix multiply\n",
        "    # 加入激活函数\n",
        "    hidden =torch.relu(hidden)\n",
        "    # 预测结果\n",
        "    predictions = hidden.mm(weights2) + biases2\n",
        "    # 计算损失\n",
        "    loss = torch.mean((predictions - y) ** 2)\n",
        "    losses.append(loss.data.numpy())\n",
        "\n",
        "    # 打印损失\n",
        "    if i % 100 == 0:\n",
        "      print('loss=', loss)\n",
        "    \n",
        "    # 反向传播\n",
        "    loss.backward()\n",
        "\n",
        "    # 更新参数\n",
        "    weights1.data.add_(-learning_rate * weights1.grad.data)\n",
        "    biases1.data.add_(-learning_rate * biases1.grad.data)\n",
        "    weights2.data.add_(-learning_rate * weights2.grad.data)\n",
        "    biases2.data.add_(-learning_rate * biases2.grad.data)\n",
        "\n",
        "    # 每次迭代清空\n",
        "    weights1.grad.data.zero_()\n",
        "    biases1.grad.data.zero_()\n",
        "    weights2.grad.data.zero_()\n",
        "    biases2.grad.data.zero_()"
      ],
      "execution_count": null,
      "outputs": [
        {
          "output_type": "stream",
          "text": [
            "loss= tensor(8400.5527, grad_fn=<MeanBackward0>)\n",
            "loss= tensor(154.0570, grad_fn=<MeanBackward0>)\n",
            "loss= tensor(147.6631, grad_fn=<MeanBackward0>)\n",
            "loss= tensor(144.9709, grad_fn=<MeanBackward0>)\n",
            "loss= tensor(143.4332, grad_fn=<MeanBackward0>)\n",
            "loss= tensor(142.4687, grad_fn=<MeanBackward0>)\n",
            "loss= tensor(141.8119, grad_fn=<MeanBackward0>)\n",
            "loss= tensor(141.3421, grad_fn=<MeanBackward0>)\n",
            "loss= tensor(140.9860, grad_fn=<MeanBackward0>)\n",
            "loss= tensor(140.7092, grad_fn=<MeanBackward0>)\n"
          ],
          "name": "stdout"
        }
      ]
    },
    {
      "cell_type": "markdown",
      "metadata": {
        "id": "mtK7oT34vDc_"
      },
      "source": [
        "###  another"
      ]
    },
    {
      "cell_type": "code",
      "metadata": {
        "id": "HV-Cek0aqeJR"
      },
      "source": [
        "# 更简单的，全部用torch内置函数完成的模型训练\n",
        "input_size = input_features.shape[1]\n",
        "hidden_size = 128\n",
        "output_size = 1\n",
        "batch_size = 16\n",
        "lr = 0.001\n",
        "\n",
        "simple_nn = torch.nn.Sequential(\n",
        "    torch.nn.Linear(input_size, hidden_size),\n",
        "    torch.nn.LeakyReLU(),\n",
        "    torch.nn.Linear(hidden_size, output_size)\n",
        ")\n",
        "cost = torch.nn.MSELoss(reduction='mean')\n",
        "optimizer = torch.optim.Adam(simple_nn.parameters(), lr=lr)"
      ],
      "execution_count": null,
      "outputs": []
    },
    {
      "cell_type": "code",
      "metadata": {
        "colab": {
          "base_uri": "https://localhost:8080/"
        },
        "id": "XKDFH5GFvV0n",
        "outputId": "db507a01-bf3e-4de1-f39c-0420d3eb29db"
      },
      "source": [
        "# 训练\n",
        "for i in range(1000):\n",
        "    batch_loss = []\n",
        "    # MINI-Batch方法来进行训练\n",
        "    for start in range(0, len(input_features), batch_size):\n",
        "        end = start + batch_size if start + batch_size < len(input_features) else len(input_features)\n",
        "        xx = torch.tensor(input_features[start:end], dtype=torch.float, requires_grad=True)\n",
        "        yy = torch.tensor(labels[start:end], dtype=torch.float, requires_grad=True)\n",
        "        prediction = simple_nn(xx)\n",
        "        # 降为一维，否则loss会告警\n",
        "        prediction = prediction.squeeze(-1)\n",
        "        loss = cost(prediction, yy)\n",
        "        optimizer.zero_grad()\n",
        "        loss.backward(retain_graph=True)\n",
        "        optimizer.step()\n",
        "        batch_loss.append(loss.data.numpy())\n",
        "\n",
        "    # 打印损失\n",
        "    if i % 100 == 0:\n",
        "        losses.append(np.mean(batch_loss))\n",
        "        print(i, np.mean(batch_loss))"
      ],
      "execution_count": null,
      "outputs": [
        {
          "output_type": "stream",
          "text": [
            "0 3983.708\n",
            "100 21.302828\n",
            "200 18.273134\n",
            "300 17.31605\n",
            "400 16.526161\n",
            "500 15.855755\n",
            "600 15.365078\n",
            "700 14.966653\n",
            "800 14.638556\n",
            "900 14.3619375\n"
          ],
          "name": "stdout"
        }
      ]
    },
    {
      "cell_type": "markdown",
      "metadata": {
        "id": "lti78vjpwq2n"
      },
      "source": [
        "# 预测"
      ]
    },
    {
      "cell_type": "code",
      "metadata": {
        "id": "kNaBZJDNwmtC"
      },
      "source": [
        "x = torch.tensor(input_features, dtype=torch.float)\n",
        "predict = simple_nn(x).data.numpy()"
      ],
      "execution_count": null,
      "outputs": []
    },
    {
      "cell_type": "code",
      "metadata": {
        "colab": {
          "base_uri": "https://localhost:8080/",
          "height": 368
        },
        "id": "eQfjrQCnw5fx",
        "outputId": "b9e98105-033b-48c8-f495-0a6f854e62ff"
      },
      "source": [
        "\n",
        "# 转换日期格式\n",
        "dates = [str(int(year)) + '-' + str(int(month)) + '-' + str(int(day)) for year, month, day in zip(years, months, days)]\n",
        "dates = [datetime.datetime.strptime(date, '%Y-%m-%d') for date in dates]\n",
        "\n",
        "# 创建一个表格来存日期和其对应的标签数值\n",
        "true_data = pd.DataFrame(data={'date': dates, 'actual': labels})\n",
        "predictions_data = pd.DataFrame(data={'date': dates, 'prediction': predict.reshape(-1)})\n",
        "\n",
        "# 真实值\n",
        "plt.plot(true_data['date'], true_data['actual'], 'b-', label='actual')\n",
        "\n",
        "# 预测值\n",
        "plt.plot(predictions_data['date'], predictions_data['prediction'], 'ro', label='prediction')\n",
        "plt.xticks(rotation='60')\n",
        "plt.legend()\n",
        "\n",
        "# 图名\n",
        "plt.xlabel('Date')\n",
        "plt.ylabel('Maximum Temperature (F)')\n",
        "plt.title('Actual and Predicted Values')\n",
        "plt.show()"
      ],
      "execution_count": null,
      "outputs": [
        {
          "output_type": "display_data",
          "data": {
            "image/png": "[encoded data removed]",
            "text/plain": [
              "<Figure size 432x288 with 1 Axes>"
            ]
          },
          "metadata": {
            "tags": []
          }
        }
      ]
    },
    {
      "cell_type": "code",
      "metadata": {
        "id": "5mwp92Ecw-LB"
      },
      "source": [
        ""
      ],
      "execution_count": null,
      "outputs": []
    }
  ]
}